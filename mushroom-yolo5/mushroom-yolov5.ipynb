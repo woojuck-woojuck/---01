{
 "cells": [
  {
   "cell_type": "code",
   "execution_count": 2,
   "metadata": {},
   "outputs": [
    {
     "name": "stderr",
     "output_type": "stream",
     "text": [
      "Cloning into 'yolov5'...\n"
     ]
    },
    {
     "name": "stdout",
     "output_type": "stream",
     "text": [
      "Note: you may need to restart the kernel to use updated packages.\n"
     ]
    }
   ],
   "source": [
    "!git clone https://github.com/ultralytics/yolov5\n",
    "%pip install -qr requirements.txt  "
   ]
  },
  {
   "cell_type": "code",
   "execution_count": 13,
   "metadata": {},
   "outputs": [],
   "source": [
    "# 파이썬 터미널에서 python train.py --img 640 --batch 16 --epochs 50 --data C:/Users/user/Documents/GitHub/---01/mushroom/yolov5/data/custom_dataset.yaml --weights yolov5s.pt\n",
    "# 파이썬 터미널에서 python detect.py --weights C:/Users/user/Documents/GitHub/---01/mushroom/yolov5/runs/train/exp18/weights/best.pt --source C:/Users/user/Documents/GitHub/---01/mushroom/yolov5/custom_dataset/test/images"
   ]
  }
 ],
 "metadata": {
  "kernelspec": {
   "display_name": "Python 3",
   "language": "python",
   "name": "python3"
  },
  "language_info": {
   "codemirror_mode": {
    "name": "ipython",
    "version": 3
   },
   "file_extension": ".py",
   "mimetype": "text/x-python",
   "name": "python",
   "nbconvert_exporter": "python",
   "pygments_lexer": "ipython3",
   "version": "3.12.3"
  }
 },
 "nbformat": 4,
 "nbformat_minor": 2
}
